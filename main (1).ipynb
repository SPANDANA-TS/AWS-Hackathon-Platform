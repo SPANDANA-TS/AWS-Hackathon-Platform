{
 "cells": [
  {
   "cell_type": "markdown",
   "metadata": {},
   "source": [
    "List Instances"
   ]
  },
  {
   "cell_type": "code",
   "execution_count": 6,
   "metadata": {},
   "outputs": [
    {
     "name": "stdout",
     "output_type": "stream",
     "text": [
      "Unnamed instances:\n",
      "{'InstanceId': 'i-0038533722f37d44f', 'PublicDnsName': 'ec2-54-211-209-116.compute-1.amazonaws.com', 'PrivateIpAddress': '172.31.45.202'}\n"
     ]
    }
   ],
   "source": [
    "import boto3\n",
    "import os\n",
    "\n",
    "# Initialize EC2 client\n",
    "ec2_client = boto3.client(\"ec2\", region_name=\"us-east-1\")\n",
    "\n",
    "# Fetch running instances\n",
    "response = ec2_client.describe_instances(\n",
    "    Filters=[\n",
    "        {\"Name\": \"instance-state-name\", \"Values\": [\"running\"]}\n",
    "    ]\n",
    ")\n",
    "\n",
    "# Function to check if an instance is unnamed\n",
    "def is_unnamed_instance(instance):\n",
    "    tags = instance.get(\"Tags\", [])\n",
    "    name_tag = next((tag for tag in tags if tag[\"Key\"] == \"Name\"), None)\n",
    "    return name_tag is None\n",
    "\n",
    "# Collect unnamed Windows instances\n",
    "unnamed_instances = []\n",
    "for reservation in response['Reservations']:\n",
    "    for instance in reservation[\"Instances\"]:\n",
    "        if \"Windows\" in instance.get(\"PlatformDetails\", \"\") and is_unnamed_instance(instance):\n",
    "            unnamed_instances.append({\n",
    "                \"InstanceId\": instance[\"InstanceId\"],\n",
    "                \"PublicDnsName\": instance.get(\"PublicDnsName\", \"\"),\n",
    "                \"PrivateIpAddress\": instance.get(\"PrivateIpAddress\", \"\"),\n",
    "            })\n",
    "\n",
    "# Output the results\n",
    "if not unnamed_instances:\n",
    "    print(\"No unnamed running instances\")\n",
    "else:\n",
    "    print(\"Unnamed instances:\")\n",
    "    for inst in unnamed_instances:\n",
    "        print(inst)\n"
   ]
  },
  {
   "cell_type": "markdown",
   "metadata": {},
   "source": [
    "List named instances"
   ]
  },
  {
   "cell_type": "code",
   "execution_count": 5,
   "metadata": {},
   "outputs": [
    {
     "name": "stdout",
     "output_type": "stream",
     "text": [
      "[{'InstanceId': 'i-0569a45c521860ab1', 'PublicDnsName': 'ec2-54-152-112-179.compute-1.amazonaws.com', 'PrivateIdAddress': '172.31.36.240'}, {'InstanceId': 'i-0e143e1d115a5bc5e', 'PublicDnsName': 'ec2-100-24-15-229.compute-1.amazonaws.com', 'PrivateIdAddress': '172.31.40.178'}]\n"
     ]
    }
   ],
   "source": [
    "import boto3\n",
    "import os\n",
    "\n",
    "ec2_client = boto3.client(\"ec2\", region_name=\"us-east-1\")\n",
    "response = ec2_client.describe_instances(\n",
    "    Filters=[\n",
    "        {\"Name\":\"instance-state-name\",\"Values\":[\"running\"]}\n",
    "    ]\n",
    ")\n",
    "instances = []\n",
    "for reservation in response['Reservations']:\n",
    "    for instance in reservation[\"Instances\"]:\n",
    "        if \"Windows\" in instance.get(\"PlatformDetails\",\"\"):\n",
    "            instances.append({\n",
    "                \"InstanceId\":instance[\"InstanceId\"],\n",
    "                \"PublicDnsName\":instance.get(\"PublicDnsName\",\"\"),\n",
    "                \"PrivateIdAddress\":instance.get(\"PrivateIpAddress\",\"\"),\n",
    "            })\n",
    "\n",
    "if not instances: \n",
    "    print(\"No running instance\")\n",
    "    exit()\n",
    "\n",
    "print(instances)"
   ]
  },
  {
   "cell_type": "markdown",
   "metadata": {},
   "source": [
    "rename the unnamed instances"
   ]
  },
  {
   "cell_type": "code",
   "execution_count": 21,
   "metadata": {},
   "outputs": [],
   "source": [
    "import boto3\n",
    "\n",
    "# Function to get instances without a 'Name' tag\n",
    "def get_unnamed_instances(instances):\n",
    "    unnamed_instances = []\n",
    "    for instance in instances:\n",
    "        instance_id = instance['InstanceId']\n",
    "        tags = instance.get('Tags', [])\n",
    "        \n",
    "        # Check if the 'Name' tag exists\n",
    "        name_tag = next((tag for tag in tags if tag['Key'] == 'Name'), None)\n",
    "        if not name_tag:\n",
    "            unnamed_instances.append(instance)\n",
    "    return unnamed_instances\n",
    "\n",
    "# Function to rename unnamed EC2 instances\n",
    "def rename_unnamed_ec2_instances(ec2_client, instances):\n",
    "    unnamed_instances = get_unnamed_instances(instances)\n",
    "    \n",
    "    for i, instance in enumerate(unnamed_instances, start=1):\n",
    "        instance_id = instance['InstanceId']\n",
    "        new_name = f\"Instance{i}\"\n",
    "        try:\n",
    "            # Modify tags to set the new Name\n",
    "            ec2_client.create_tags(\n",
    "                Resources=[instance_id],\n",
    "                Tags=[\n",
    "                    {'Key': 'Name', 'Value': new_name}\n",
    "                ]\n",
    "            )\n",
    "            print(f\"Changed name of instance {instance_id} to {new_name}\")\n",
    "        except Exception as e:\n",
    "            print(f\"Failed to rename instance {instance_id}: {e}\")\n",
    "\n",
    "# Example usage\n",
    "def main():\n",
    "    ec2_client = boto3.client('ec2')  # Assuming boto3 is already imported\n",
    "    try:\n",
    "        response = ec2_client.describe_instances()\n",
    "        all_instances = []\n",
    "        \n",
    "        # Extract all instances from all reservations\n",
    "        for reservation in response['Reservations']:\n",
    "            all_instances.extend(reservation['Instances'])\n",
    "        \n",
    "        # Rename unnamed EC2 instances\n",
    "        rename_unnamed_ec2_instances(ec2_client, all_instances)\n",
    "    except Exception as e:\n",
    "        print(f\"Failed to retrieve or process instances: {e}\")\n",
    "\n",
    "if __name__ == \"__main__\":\n",
    "    main()\n"
   ]
  },
  {
   "cell_type": "markdown",
   "metadata": {},
   "source": [
    "Export InstanceID, InstanceName in CSV (newly created instances)"
   ]
  },
  {
   "cell_type": "code",
   "execution_count": 33,
   "metadata": {},
   "outputs": [
    {
     "name": "stdout",
     "output_type": "stream",
     "text": [
      "Fetched Instances:\n",
      "InstanceId: i-0fbb57b7d8d45da26, Name: st-app\n",
      "InstanceId: i-0ff470748449c8b3b, Name: NewInstance1\n",
      "InstanceId: i-070cf9a4bf3931e73, Name: NewInstance2\n",
      "InstanceId: i-0c43f0e8f9d13ea86, Name: st-app2\n",
      "InstanceId: i-09e8ea2044d237791, Name: Del1\n",
      "InstanceId: i-07979fa7c6cc78c4c, Name: Del2\n",
      "InstanceId: i-07569b18840d312c8, Name: Instance1\n",
      "InstanceId: i-0d43625624b2e7209, Name: Instance2\n",
      "Filtered Instances:\n",
      "InstanceId: i-0ff470748449c8b3b, Name: NewInstance1\n",
      "InstanceId: i-070cf9a4bf3931e73, Name: NewInstance2\n",
      "InstanceId: i-07569b18840d312c8, Name: Instance1\n",
      "InstanceId: i-0d43625624b2e7209, Name: Instance2\n",
      "Filtered InstanceIds and Names have been written to filtered_instances.csv.\n"
     ]
    }
   ],
   "source": [
    "import boto3\n",
    "import csv\n",
    "import re\n",
    "\n",
    "# Initialize EC2 client\n",
    "ec2_client = boto3.client(\"ec2\", region_name=\"us-east-1\")\n",
    "\n",
    "# Fetch running instances\n",
    "response = ec2_client.describe_instances(\n",
    "    Filters=[{\"Name\": \"instance-state-name\", \"Values\": [\"running\"]}]\n",
    ")\n",
    "\n",
    "# Extract instance details\n",
    "instances = []\n",
    "for reservation in response.get('Reservations', []):\n",
    "    for instance in reservation.get(\"Instances\", []):\n",
    "        tags = {tag['Key']: tag['Value'] for tag in instance.get(\"Tags\", [])}\n",
    "        name = tags.get(\"Name\", \"Unnamed\")  # Default to 'Unnamed' if no Name tag\n",
    "        instances.append({\n",
    "            \"InstanceId\": instance[\"InstanceId\"],\n",
    "            \"Name\": name\n",
    "        })\n",
    "\n",
    "# Debug: Print all instances\n",
    "print(\"Fetched Instances:\")\n",
    "for instance in instances:\n",
    "    print(f\"InstanceId: {instance['InstanceId']}, Name: {instance['Name']}\")\n",
    "\n",
    "# Filter instances matching the formats \"Instance1\", \"Instance 1\", \"NewInstance1\", or \"NewInstance 1\"\n",
    "filtered_instances = [\n",
    "    instance for instance in instances\n",
    "    if re.match(r\"^Instance\\s?\\d+$\", instance['Name'], re.IGNORECASE) or re.match(r\"^NewInstance\\s?\\d+$\", instance['Name'], re.IGNORECASE)\n",
    "]\n",
    "\n",
    "# Debug: Print filtered instances\n",
    "print(\"Filtered Instances:\")\n",
    "for instance in filtered_instances:\n",
    "    print(f\"InstanceId: {instance['InstanceId']}, Name: {instance['Name']}\")\n",
    "\n",
    "# Write to CSV\n",
    "csv_file = 'filtered_instances.csv'\n",
    "if filtered_instances:\n",
    "    with open(csv_file, mode='w', newline='') as file:\n",
    "        writer = csv.writer(file)\n",
    "        writer.writerow(['InstanceId', 'InstanceName'])  # Write header\n",
    "        for instance in filtered_instances:\n",
    "            writer.writerow([instance['InstanceId'], instance['Name']])  # Write InstanceId and Name\n",
    "    print(f\"Filtered InstanceIds and Names have been written to {csv_file}.\")\n",
    "else:\n",
    "    print(\"No instances matching the required naming formats found.\")\n"
   ]
  },
  {
   "cell_type": "markdown",
   "metadata": {},
   "source": [
    "Export InstanceID, InstanceName in CSV"
   ]
  },
  {
   "cell_type": "code",
   "execution_count": 32,
   "metadata": {},
   "outputs": [
    {
     "ename": "KeyError",
     "evalue": "'InstanceId'",
     "output_type": "error",
     "traceback": [
      "\u001b[1;31m---------------------------------------------------------------------------\u001b[0m",
      "\u001b[1;31mKeyError\u001b[0m                                  Traceback (most recent call last)",
      "Cell \u001b[1;32mIn[32], line 4\u001b[0m\n\u001b[0;32m      1\u001b[0m \u001b[38;5;28;01mimport\u001b[39;00m\u001b[38;5;250m \u001b[39m\u001b[38;5;21;01mcsv\u001b[39;00m\n\u001b[0;32m      3\u001b[0m \u001b[38;5;28;01mfor\u001b[39;00m instance \u001b[38;5;129;01min\u001b[39;00m instances:\n\u001b[1;32m----> 4\u001b[0m     \u001b[38;5;28mprint\u001b[39m(\u001b[43minstance\u001b[49m\u001b[43m[\u001b[49m\u001b[38;5;124;43m'\u001b[39;49m\u001b[38;5;124;43mInstanceId\u001b[39;49m\u001b[38;5;124;43m'\u001b[39;49m\u001b[43m]\u001b[49m \u001b[38;5;241m+\u001b[39m \u001b[38;5;124m\"\u001b[39m\u001b[38;5;124m  \u001b[39m\u001b[38;5;124m\"\u001b[39m\u001b[38;5;241m+\u001b[39m instance[\u001b[38;5;124m'\u001b[39m\u001b[38;5;124mName\u001b[39m\u001b[38;5;124m'\u001b[39m])\n\u001b[0;32m      6\u001b[0m \u001b[38;5;66;03m# Define the CSV file name\u001b[39;00m\n\u001b[0;32m      7\u001b[0m csv_file \u001b[38;5;241m=\u001b[39m \u001b[38;5;124m'\u001b[39m\u001b[38;5;124minstance_ids.csv\u001b[39m\u001b[38;5;124m'\u001b[39m\n",
      "\u001b[1;31mKeyError\u001b[0m: 'InstanceId'"
     ]
    }
   ],
   "source": [
    "import csv\n",
    "\n",
    "for instance in instances:\n",
    "    print(instance['InstanceId'] + \"  \"+ instance['Name'])\n",
    "\n",
    "# Define the CSV file name\n",
    "csv_file = 'instance_ids.csv'\n",
    "\n",
    "# Write InstanceId and Name to the CSV file\n",
    "with open(csv_file, mode='w', newline='') as file:\n",
    "    writer = csv.writer(file)\n",
    "    writer.writerow(['Id', 'Name'])  # Writing the header\n",
    "    for instance in instances:\n",
    "        writer.writerow([instance['InstanceId'], instance['Name']])  # Writing each InstanceId and Name\n",
    "\n",
    "print(f\"InstanceIds and Names have been written to {csv_file}.\")"
   ]
  },
  {
   "cell_type": "markdown",
   "metadata": {},
   "source": [
    "Download rdp files of filtered instances"
   ]
  },
  {
   "cell_type": "code",
   "execution_count": 34,
   "metadata": {},
   "outputs": [
    {
     "name": "stdout",
     "output_type": "stream",
     "text": [
      "Filtered Instance IDs from CSV: ['i-0ff470748449c8b3b', 'i-070cf9a4bf3931e73', 'i-07569b18840d312c8', 'i-0d43625624b2e7209']\n",
      "Instances with valid Public DNS for RDP:\n",
      "InstanceId: i-0ff470748449c8b3b, Name: NewInstance1, PublicDnsName: ec2-54-226-181-45.compute-1.amazonaws.com\n",
      "InstanceId: i-070cf9a4bf3931e73, Name: NewInstance2, PublicDnsName: ec2-54-204-174-187.compute-1.amazonaws.com\n",
      "InstanceId: i-07569b18840d312c8, Name: Instance1, PublicDnsName: ec2-50-16-120-229.compute-1.amazonaws.com\n",
      "InstanceId: i-0d43625624b2e7209, Name: Instance2, PublicDnsName: ec2-54-224-136-237.compute-1.amazonaws.com\n",
      "RDP file downloaded for instance: NewInstance1 -> NewInstance1.rdp\n",
      "RDP file downloaded for instance: NewInstance2 -> NewInstance2.rdp\n",
      "RDP file downloaded for instance: Instance1 -> Instance1.rdp\n",
      "RDP file downloaded for instance: Instance2 -> Instance2.rdp\n"
     ]
    }
   ],
   "source": [
    "import boto3\n",
    "import csv\n",
    "\n",
    "# Initialize EC2 client\n",
    "ec2_client = boto3.client(\"ec2\", region_name=\"us-east-1\")\n",
    "\n",
    "# Read filtered instances from CSV file\n",
    "filtered_instances = []\n",
    "csv_file = 'filtered_instances.csv'\n",
    "\n",
    "try:\n",
    "    with open(csv_file, mode='r') as file:\n",
    "        reader = csv.DictReader(file)\n",
    "        for row in reader:\n",
    "            filtered_instances.append(row[\"InstanceId\"])\n",
    "except Exception as e:\n",
    "    print(f\"Error reading filtered instances from CSV: {str(e)}\")\n",
    "\n",
    "# Debug: Print filtered instances from CSV\n",
    "print(\"Filtered Instance IDs from CSV:\", filtered_instances)\n",
    "\n",
    "# Fetch details for filtered instances\n",
    "instances_to_rdp = []\n",
    "response = ec2_client.describe_instances(\n",
    "    InstanceIds=filtered_instances\n",
    ")\n",
    "for reservation in response.get('Reservations', []):\n",
    "    for instance in reservation.get(\"Instances\", []):\n",
    "        public_dns = instance.get(\"PublicDnsName\", \"\")\n",
    "        name_tag = next((tag[\"Value\"] for tag in instance.get(\"Tags\", []) if tag[\"Key\"] == \"Name\"), \"Unnamed\")\n",
    "        if public_dns:  # Only add instances with a valid public DNS\n",
    "            instances_to_rdp.append({\n",
    "                \"InstanceId\": instance[\"InstanceId\"],\n",
    "                \"Name\": name_tag,\n",
    "                \"PublicDnsName\": public_dns\n",
    "            })\n",
    "\n",
    "# Debug: Print instances with valid public DNS\n",
    "print(\"Instances with valid Public DNS for RDP:\")\n",
    "for instance in instances_to_rdp:\n",
    "    print(f\"InstanceId: {instance['InstanceId']}, Name: {instance['Name']}, PublicDnsName: {instance['PublicDnsName']}\")\n",
    "\n",
    "# Write RDP files for instances with valid Public DNS\n",
    "for instance in instances_to_rdp:\n",
    "    instance_id = instance['InstanceId']\n",
    "    instance_name = instance['Name']\n",
    "    try:\n",
    "        rdp_file_name = f\"{instance_name}.rdp\"\n",
    "        with open(rdp_file_name, \"w\") as rdp_file:\n",
    "            rdp_file.write(f\"full address:s:{instance['PublicDnsName']}\\n\")\n",
    "            rdp_file.write(\"username:s:Administrator\\n\")\n",
    "        print(f'RDP file downloaded for instance: {instance_name} -> {rdp_file_name}')\n",
    "    except Exception as e:\n",
    "        print(f\"Error downloading RDP file for {instance_name}: {str(e)}\")\n"
   ]
  },
  {
   "cell_type": "markdown",
   "metadata": {},
   "source": [
    "RDP path in attachment.csv"
   ]
  },
  {
   "cell_type": "code",
   "execution_count": 36,
   "metadata": {},
   "outputs": [
    {
     "name": "stdout",
     "output_type": "stream",
     "text": [
      "File paths have been saved to attachments.csv.\n"
     ]
    }
   ],
   "source": [
    "import pandas as pd\n",
    "import os\n",
    "# Define the folder path\n",
    "folder_path = 'c:\\\\Hackathon\\\\rdp'  # Replace with the path to your folder\n",
    "output_csv = 'attachments.csv'     # Output CSV file name\n",
    " \n",
    "# Get the list of all files in the folder\n",
    "file_paths = []\n",
    "for root, dirs, files in os.walk(folder_path):\n",
    "    for file in files:\n",
    "        file_paths.append(os.path.join(root, file))\n",
    " \n",
    "# Create a DataFrame to store the file paths\n",
    "df = pd.DataFrame(file_paths, columns=['Attachments'])\n",
    " \n",
    "# Save the file paths to a CSV file\n",
    "df.to_csv(output_csv, index=False)\n",
    " \n",
    "print(f\"File paths have been saved to {output_csv}.\")"
   ]
  },
  {
   "cell_type": "markdown",
   "metadata": {},
   "source": [
    "mainsheet(email, instanceID, instance name)"
   ]
  },
  {
   "cell_type": "code",
   "execution_count": 38,
   "metadata": {},
   "outputs": [
    {
     "name": "stdout",
     "output_type": "stream",
     "text": [
      "Emails from participants1.csv: ['gsingla@deloitte.com', 'tipanchal@deloitte.com', 'lnair@deloitte.com', 'ankamboj@deloitte.com', 'modhamor@deloitte.com', 'ngupta14@deloitte.com', 'hsoni@deloitte.com', 'kalisinghal@deloitte.com', 'shriysingh@deloitte.com', 'achadda@deloitte.com', 'prjawahar@deloitte.com', 'prapunjabi@deloitte.com', 'nakrathore@deloitte.com', 'posomani@deloitte.com', 'smjoshi@deloitte.com', 'kushgupta@deloitte.com', 'gaghag@deloitte.com', 'ppatwa@deloitte.com', 'maloke@deloitte.com', 'gets1@deloitte.com', 'mansdang@deloitte.com', 'vshah11@deloitte.com', 'srasal@deloitte.com', 'prpal@deloitte.com', 'harinr@deloitte.com', 'achattarbandh@deloitte.com', 'atyagi7@deloitte.com', 'sebano@deloitte.com', 'Duggalm@deloitte.com', 'deumesh@deloitte.com', 'skhattak@deloitte.com', 'mejaiswal@deloitte.com', 'BHUMIKAJAIN.EXT@DELOITTE.COM', 'sonmahato@deloitte.com', 'sosubramanian@deloitte.com', 'pamukhtyar@deloitte.com', 'dburma@deloitte.com', 'arbehal@deloitte.com', 'vischavan@deloitte.com', 'anhande@deloitte.com', 'navagrawal@deloitte.com', 'shasmohanty@deloitte.com', 'sdoad@deloitte.com', 'klakdawala@deloitte.com', 'nparikh@deloitte.com', 'kartn@deloitte.com', 'apgirish@deloitte.com', 'harshimehta@deloitte.com', 'saynag@deloitte.com', 'shamohamed@deloitte.com', 'manutiwari@deloitte.com', 'Gurikaur@deloitte.com ', 'pri1@deloitte.com', 'rahulpatel@deloitte.com', 'sudharsunv@deloitte.com', 'sthange@deloitte.com', 'lidedhia@deloitte.com', 'shranair@deloitte.com', 'sonambiar@deloitte.com', 'nkhan3@deloitte.com', 'ritikavij@deloitte.com', 'ARUNKUMAR1@DELOITTE.COM', 'smahadeshwar@deloitte.com', 'emore@deloitte.com', 'ctodankar@deloitte.com', 'dgargashya@deloitte.com', 'priyanjoshi@deloitte.com', 'rabfernando@deloitte.com', 'grchugh@deloitte.com', 'bkakkar@deloitte.com', 'pratkhurana@deloitte.com', 'ainkhan@deloitte.com', 'shdaniel@deloitte.com', 'sauraagrawal@deloitte.com', 'ankita3@deloitte.com', 'tamenon@deloitte.com', 'sakgarg.ext@deloitte.com', 'palam@deloitte.com', 'sajkedia@deloitte.com', 'radasari@deloitte.com', 'dbrahma@deloitte.com', 'pusarkar@deloitte.com', 'apandey10@deloitte.com', 'bhavajoshi@deloitte.com', 'aalohia@deloitte.com', 'kgupta17@deloitte.com', 'poonajain@deloitte.com', 'sghoshmajumder@deloitte.com', 'pangupta@deloitte.com', 'govkulkarni@deloitte.com', 'amarchetan@deloitte.com', 'mlowanshi@deloitte.com', 'amalpani@deloitte.com', 'avaggarwal@deloitte.com', 'anthmohan@deloitte.com', 'vsequeira@deloitte.com', 'sucjena@deloitte.com', 'jukothari@deloitte.com', 'svaddepalli@deloitte.com', 'lojain@deloitte.com', 'smhaskar@deloitte.com', 'btallur@deloitte.com', 'vbahri@deloitte.com', 'vaganesh@deloitte.com', 'geethak@deloitte.com', 'skothuru@deloitte.com', 'rgandhi@deloitte.com', 'rimane@deloitte.com', 'pravpawar@deloitte.com', 'aksavla@deloitte.com', 'paviths@deloitte.com', 'nesethia@deloitte.com', 'ychaube@deloitte.com', 'ska@deloitte.com', 'poonamp@deloitte.com', 'poorvaprakash@deloitte.com', 'rashmir@deloitte.com', 'narebello@deloitte.com', 'sunimkar@deloitte.com', 'tphanse@deloitte.com', 'pkalbhor@deloitte.com', 'mithar@deloitte.com', 'richakravarty@deloitte.com', 'yuvar@deloitte.com', 'avishwanathan@deloitte.com', 'kasubramani@deloitte.com', 'psrichowdary@deloitte.com', 'sseal@deloitte.com', 'aspal@deloitte.com', 'ryacham@deloitte.com', 'mohshaik.ext@deloitte.com', 'saumjoshi@deloitte.com', 'ndevkamble@deloitte.com', 'hshaik@deloitte.com', 'tathbanerjee@deloitte.com', 'muborkar@deloitte.com', 'prabhus1.ext@deloitte.com', 'prmadheswaran@deloitte.com', 'gua@deloitte.com', 'sbsingh.ext@deloitte.com', 'kduraivel@deloitte.com', 'nitripathi@deloitte.com', 'suahuja@deloitte.com', 'sseelandp@deloitte.com', 'gsrivastava@deloitte.com', 'neetjain@deloitte.com', 'aanatarajan@deloitte.com', 'kvazirani@deloitte.com', 'sujbehera@deloitte.com', 'ishisingh@deloitte.com', 'Ashisht@deloitte.com', 'monsaini@deloitte.com', 'Prasood@deloitte.com', 'ritchowdhury@deloitte.com', 'sohbrahma@deloitte.com', 'abgadekar@deloitte.com', 'samaksjain@deloitte.com', 'rarout@deloitte.com', 'di1@deloitte.com', 'tpai@deloitte.com', 'sukunte.ext@deloitte.com', 'tdhupad@deloitte.com', 'mbera@deloitte.com', 'dhragrawal.ext@deloitte.com', 'smanmode@deloitte.com', 'vikhera@deloitte.com', 'nchaurey@deloitte.com', 'afzqureshi@deloitte.com', 'lmulpuri@deloitte.com', 'hkalyani@deloitte.com', 'thagurrala@deloitte.com', 'msutkar@deloitte.com', 'sanjay.paitundy@deloitte.com', 'aakothari@deloitte.com', 'pranjoshi.ext@deloitte.com', 'pcn1@deloitte.com', 'simrpatil.ext@deloitte.com', 'marakere@deloitte.com', 'vijaytejav@deloitte.com', 'hchunduru@deloitte.com', 'baswreddy@deloitte.com', 'ankitja@deloitte.com', 'amahala@deloitte.com', 'kkoyande@deloitte.com', 'prirai@deloitte.com', 'akumar38@deloitte.com', 'nabanerjee@deloitte.com', 'tuchauhan@deloitte.com', 'paramjsharma@deloitte.com', 'saydas.ext@deloitte.com', 'vivgpatil@deloitte.com', 'shrasharma.ext@deloitte.com', 'ruchopra@deloitte.com', 'aasmaheshwari@deloitte.com', 'sdahiya@deloitte.com', 'chriskec@deloitte.com', 'taniverma.ext@deloitte.com', 'sohmazumdar.ext@deloitte.com', 'sidkumar.ext@deloitte.com', 'dhisahu.ext@deloitte.com', 'apoorwgupta@deloitte.com', 'khykalra@deloitte.com', 'vkanwar@deloitte.com', 'vaibkhandelwal@deloitte.com', 'smercy@deloitte.com', 'vgunti@deloitte.com', 'ambranjan@deloitte.com', 'nitimahajan@deloitte.com', 'shaikmbasha@deloitte.com', 'shainsingh@deloitte.com', 'ssushobhit@deloitte.com', 'jsingh7@deloitte.com', 'soumchoudhary@deloitte.com', 'skanungo@deloitte.com', 'bijsingh@deloitte.com', 'prdalal@deloitte.com', 'sbalasubramanium@deloitte.com', 'shshree@deloitte.com', 'karthikumar@deloitte.com', 'psingh81@deloitte.com', 'ankulshrestha@deloitte.com', 'jvelusamy@deloitte.com', 'hjha@deloitte.com', 'kebabu@deloitte.com', 'nnandam@deloitte.com', 'japawar@deloitte.com', 'priyparihar@deloitte.com', 'hv3@deloitte.com', 'sanloganathan@deloitte.com', 'dikshakumari@deloitte.com', 'damruthakavi@deloitte.com', 'hbidkar@deloitte.com', 'abhiagnihotri@deloitte.com', 'Htayal@deloitte.com', 'pavam@deloitte.com', 'rvardhi@deloitte.com', 'ABHINAVKUMAR2@DELOITTE.COM', 'ssandeepbv@deloitte.com', 'arjayaseelan@deloitte.com', 'dkhangarot@deloitte.com', 'aripatra@deloitte.com', 'BHUJAIN.EXT@DELOITTE.COM', 'murrajan.ext@deloitte.com', 'masethi@deloitte.com', 'bhumareddy@deloitte.com', 'koduggirala@deloitte.com', 'paysingla@deloitte.com', 'kirti3@deloitte.com', 'shanp@deloitte.com', 'NAMITRA@DELOITTE.COM']\n",
      "Instances from filtered_instances.csv: [{'InstanceID': 'i-0ff470748449c8b3b', 'InstanceName': 'NewInstance1'}, {'InstanceID': 'i-070cf9a4bf3931e73', 'InstanceName': 'NewInstance2'}, {'InstanceID': 'i-07569b18840d312c8', 'InstanceName': 'Instance1'}, {'InstanceID': 'i-0d43625624b2e7209', 'InstanceName': 'Instance2'}]\n",
      "Mainsheet created successfully: mainsheet.csv\n"
     ]
    }
   ],
   "source": [
    "import csv\n",
    "\n",
    "# File paths\n",
    "participants_file = 'participants1.csv'\n",
    "filtered_instances_file = 'filtered_instances.csv'\n",
    "output_file = 'mainsheet.csv'\n",
    "\n",
    "# Read Email from Participants1.csv\n",
    "emails = []\n",
    "try:\n",
    "    with open(participants_file, mode='r') as file:\n",
    "        reader = csv.DictReader(file)\n",
    "        for row in reader:\n",
    "            emails.append(row['Email'])  # Assuming 'Email' is the column name\n",
    "except Exception as e:\n",
    "    print(f\"Error reading {participants_file}: {str(e)}\")\n",
    "\n",
    "# Debug: Print emails\n",
    "print(\"Emails from participants1.csv:\", emails)\n",
    "\n",
    "# Read InstanceID and InstanceName from filtered_instances.csv\n",
    "instances = []\n",
    "try:\n",
    "    with open(filtered_instances_file, mode='r') as file:\n",
    "        reader = csv.DictReader(file)\n",
    "        for row in reader:\n",
    "            instances.append({\n",
    "                'InstanceID': row['InstanceId'],  # Assuming 'InstanceId' is the column name\n",
    "                'InstanceName': row['InstanceName']  # Assuming 'InstanceName' is the column name\n",
    "            })\n",
    "except Exception as e:\n",
    "    print(f\"Error reading {filtered_instances_file}: {str(e)}\")\n",
    "\n",
    "# Debug: Print instances\n",
    "print(\"Instances from filtered_instances.csv:\", instances)\n",
    "\n",
    "# Combine data into mainsheet.csv\n",
    "try:\n",
    "    with open(output_file, mode='w', newline='') as file:\n",
    "        writer = csv.writer(file)\n",
    "        writer.writerow(['Email', 'InstanceID', 'InstanceName'])  # Write header\n",
    "\n",
    "        # Match emails to instances (1-to-1 matching)\n",
    "        for email, instance in zip(emails, instances):\n",
    "            writer.writerow([email, instance['InstanceID'], instance['InstanceName']])\n",
    "\n",
    "    print(f\"Mainsheet created successfully: {output_file}\")\n",
    "except Exception as e:\n",
    "    print(f\"Error writing {output_file}: {str(e)}\")\n"
   ]
  },
  {
   "cell_type": "markdown",
   "metadata": {},
   "source": [
    "Email file(Email_data.csv)"
   ]
  },
  {
   "cell_type": "code",
   "execution_count": null,
   "metadata": {},
   "outputs": [
    {
     "name": "stdout",
     "output_type": "stream",
     "text": [
      "email_data.csv has been updated and saved to c:\\\\Hackathon\\\\email_data.csv.\n"
     ]
    }
   ],
   "source": [
    "import pandas as pd\n",
    "\n",
    "# Load the CSV files\n",
    "mainsheet_df = pd.read_csv('mainsheet.csv')  # Fetch Email from mainsheet.csv\n",
    "attachments_df = pd.read_csv('attachments.csv')  # Fetch Attachments from attachments.csv\n",
    "\n",
    "# Creating the subject and body as constants\n",
    "subject = \"Get Started: RDP File and Access Details for Galactic Hackathon 2025\"\n",
    "body = \"\"\"Hi,\n",
    "\n",
    "We are delighted to welcome you to the Galactic Hackathon 2025. Below, you will find your credentials to access the necessary resources and participate in the event:\n",
    "\n",
    "Login Credentials:\n",
    "\n",
    "Username: Administrator\n",
    "Password: DelloiteHackathon@2025\n",
    "Access File: Provided in attachments (Download and open the .rdp file where you are supposed to log in via provided credentials)\n",
    "\n",
    "Please keep this information confidential and do not share it with others. If you encounter any issues accessing the platform or have questions, feel free to contact us.\n",
    "\n",
    "We look forward to your active participation and wish you a wonderful experience!\n",
    "\n",
    "Best regards,\n",
    "The Knowledge Academy Team\n",
    "\"\"\"\n",
    "\n",
    "# Merge mainsheet (Emails) with attachments to ensure proper alignment of data\n",
    "email_data_df = pd.DataFrame({\n",
    "    'Email': mainsheet_df['Email'],  # Emails from mainsheet.csv\n",
    "    'Subject': subject,\n",
    "    'Body': body,\n",
    "    'Attachment': attachments_df['Attachments']  # Attachments from attachments.csv\n",
    "})\n",
    "\n",
    "# Save the updated data to a different location (e.g., Desktop)\n",
    "output_path = r'c:\\\\Hackathon\\\\email_data.csv'\n",
    "email_data_df.to_csv(output_path, index=False, lineterminator='\\n')\n",
    "\n",
    "print(f\"email_data.csv has been updated and saved to {output_path}.\")\n"
   ]
  },
  {
   "cell_type": "markdown",
   "metadata": {},
   "source": [
    "zoom meeting data"
   ]
  },
  {
   "cell_type": "code",
   "execution_count": null,
   "metadata": {},
   "outputs": [],
   "source": []
  },
  {
   "cell_type": "markdown",
   "metadata": {},
   "source": [
    "Sending Emails"
   ]
  },
  {
   "cell_type": "code",
   "execution_count": 37,
   "metadata": {},
   "outputs": [
    {
     "name": "stdout",
     "output_type": "stream",
     "text": [
      "Email sent to jai.prakash@theknowledgeacademy.com\n",
      "Email sent to spandana.ts@theknowledgeacademy.com\n",
      "Email sent to ashutosh.kushwaha@theknowledgeacademy.com\n",
      "Email sent to vinita.sinha@theknowledgeacademy.com\n"
     ]
    }
   ],
   "source": [
    "import os\n",
    "import pandas as pd\n",
    "import win32com.client as win32\n",
    "\n",
    "# Initialize Outlook\n",
    "outlook = win32.Dispatch('Outlook.Application')\n",
    "\n",
    "# Read email data from CSV with a specified encoding\n",
    "try:\n",
    "    data = pd.read_csv('email_data.csv', encoding='latin1')  # Use 'latin1' or other encodings as needed\n",
    "except UnicodeDecodeError as e:\n",
    "    print(f\"Failed to read CSV file: {e}\")\n",
    "    exit()\n",
    "\n",
    "# Iterate through each row in the data\n",
    "for index, row in data.iterrows():\n",
    "    # Access the row data using .iloc to avoid deprecation warnings\n",
    "    recipient = row.iloc[0]  # First column: Email\n",
    "    subject = row.iloc[1]    # Second column: Subject\n",
    "    body = row.iloc[2]       # Third column: Body\n",
    "    attachment_path = row.iloc[3]  # Fourth column: Attachment\n",
    "\n",
    "    # Create an email item\n",
    "    try:\n",
    "        mail = outlook.CreateItem(0)  # 0 represents an email item\n",
    "        mail.To = recipient\n",
    "        mail.Subject = subject\n",
    "        mail.Body = body\n",
    "\n",
    "        # Attach the file if it exists\n",
    "        if os.path.exists(attachment_path):\n",
    "            try:\n",
    "                mail.Attachments.Add(attachment_path)  # Add attachment if file exists\n",
    "            except Exception as e:\n",
    "                print(f\"Failed to attach {attachment_path}: {e}\")\n",
    "        else:\n",
    "            print(f\"Attachment file not found: {attachment_path}\")\n",
    "\n",
    "        # Send the email\n",
    "        try:\n",
    "            mail.Send()\n",
    "            print(f\"Email sent to {recipient}\")\n",
    "        except Exception as e:\n",
    "            print(f\"Failed to send email to {recipient}: {e}\")\n",
    "    except Exception as e:\n",
    "        print(f\"Failed to create email for {recipient}: {e}\")\n"
   ]
  },
  {
   "cell_type": "markdown",
   "metadata": {},
   "source": [
    "Sheets for output.csv"
   ]
  },
  {
   "cell_type": "code",
   "execution_count": null,
   "metadata": {},
   "outputs": [],
   "source": [
    "\n",
    "\n",
    "import csv\n",
    "\n",
    "# Define the file names\n",
    "file1 = 'file1.csv'  # File with InstanceId, Name, Email\n",
    "file2 = 'file2.csv'  # File with Email only\n",
    "output_file = 'output.csv'  # File to save the results\n",
    "\n",
    "# Read the first file into a dictionary with email as the key\n",
    "file1_data = {}\n",
    "with open(file1, mode='r', newline='', encoding='utf-8') as f1:\n",
    "    reader = csv.DictReader(f1)\n",
    "    for row in reader:\n",
    "        file1_data[row['Email']] = {'InstanceId': row['InstanceId'], 'InstanceName': row['InstanceName']}\n",
    "\n",
    "# Find the matching rows based on email from the second file\n",
    "matching_data = []\n",
    "with open(file2, mode='r', newline='', encoding='utf-8') as f2:\n",
    "    reader = csv.DictReader(f2)\n",
    "    for row in reader:\n",
    "        email = row['Email']\n",
    "        if email in file1_data:\n",
    "            matching_data.append({\n",
    "                'InstanceId': file1_data[email]['InstanceId'],\n",
    "                'InstanceName': file1_data[email]['InstanceName'],\n",
    "                'Email': email\n",
    "            })\n",
    "\n",
    "# Write the matching data to an output file\n",
    "with open(output_file, mode='w', newline='', encoding='utf-8') as f_out:\n",
    "    writer = csv.DictWriter(f_out, fieldnames=['InstanceId', 'InstanceName', 'Email'])\n",
    "    writer.writeheader()\n",
    "    writer.writerows(matching_data)\n",
    "\n",
    "print(f\"Matching rows have been written to {output_file}.\")\n"
   ]
  },
  {
   "cell_type": "markdown",
   "metadata": {},
   "source": [
    "Absentees"
   ]
  },
  {
   "cell_type": "code",
   "execution_count": null,
   "metadata": {},
   "outputs": [],
   "source": [
    "import csv\n",
    "\n",
    "# Define the file names\n",
    "file1 = 'file1.csv'  # File with InstanceId, Name, Email\n",
    "file2 = 'file2.csv'  # File with Email only\n",
    "output_file = 'output.csv'  # File to save the matching results\n",
    "absentees_file = 'absentees.csv'  # File to save the absentees\n",
    "\n",
    "# Read the first file into a dictionary with email as the key\n",
    "file1_data = {}\n",
    "with open(file1, mode='r', newline='', encoding='utf-8') as f1:\n",
    "    reader = csv.DictReader(f1)\n",
    "    for row in reader:\n",
    "        file1_data[row['Email']] = {'InstanceId': row['InstanceId'], 'InstanceName': row['InstanceName']}\n",
    "\n",
    "# Create a set of emails from file2.csv\n",
    "file2_emails = set()\n",
    "with open(file2, mode='r', newline='', encoding='utf-8') as f2:\n",
    "    reader = csv.DictReader(f2)\n",
    "    for row in reader:\n",
    "        file2_emails.add(row['Email'])\n",
    "\n",
    "# Find matching data\n",
    "matching_data = []\n",
    "absentees_data = []\n",
    "\n",
    "for email, data in file1_data.items():\n",
    "    if email in file2_emails:\n",
    "        matching_data.append({'InstanceId': data['InstanceId'], 'InstanceName': data['InstanceName'], 'Email': email})\n",
    "    else:\n",
    "        absentees_data.append({'InstanceId': data['InstanceId'], 'InstanceName': data['InstanceName'], 'Email': email})\n",
    "\n",
    "# Write the matching data to an output file\n",
    "with open(output_file, mode='w', newline='', encoding='utf-8') as f_out:\n",
    "    writer = csv.DictWriter(f_out, fieldnames=['InstanceId', 'InstanceName', 'Email'])\n",
    "    writer.writeheader()\n",
    "    writer.writerows(matching_data)\n",
    "\n",
    "# Write the absentees data to a separate file\n",
    "with open(absentees_file, mode='w', newline='', encoding='utf-8') as f_absent:\n",
    "    writer = csv.DictWriter(f_absent, fieldnames=['InstanceId', 'InstanceName', 'Email'])\n",
    "    writer.writeheader()\n",
    "    writer.writerows(absentees_data)\n",
    "\n",
    "print(f\"Matching rows have been written to {output_file}.\")\n",
    "print(f\"Absentees have been written to {absentees_file}.\")\n"
   ]
  },
  {
   "cell_type": "markdown",
   "metadata": {},
   "source": [
    "Stop Instances"
   ]
  },
  {
   "cell_type": "code",
   "execution_count": null,
   "metadata": {},
   "outputs": [],
   "source": [
    "import boto3\n",
    "import csv\n",
    "\n",
    "def stop_instances_from_csv(file_path, region_name='us-east-1'):\n",
    "    ec2_client = boto3.client('ec2', region_name=region_name)\n",
    "\n",
    "    try:\n",
    "        # Read instance IDs from the CSV file\n",
    "        instance_ids = []\n",
    "        with open(file_path, mode='r') as file:\n",
    "            csv_reader = csv.reader(file)\n",
    "            next(csv_reader)  # Skip the header row if present\n",
    "            for row in csv_reader:\n",
    "                if row:\n",
    "                    instance_ids.append(row[0])  # Assuming instance ID is in the first column\n",
    "\n",
    "        if not instance_ids:\n",
    "            print(\"No instance IDs found in the CSV file.\")\n",
    "            return\n",
    "\n",
    "        print(f\"Instance IDs to stop: {instance_ids}\")\n",
    "\n",
    "        # Stop the instances\n",
    "        response = ec2_client.stop_instances(InstanceIds=instance_ids)\n",
    "        stopped_instances = response.get('StoppingInstances', [])\n",
    "\n",
    "        for instance in stopped_instances:\n",
    "            print(f\"Stopping instance {instance['InstanceId']}: Current state - {instance['CurrentState']['Name']}, Previous state - {instance['PreviousState']['Name']}\")\n",
    "\n",
    "        print(\"Instances stopped successfully.\")\n",
    "\n",
    "    except FileNotFoundError:\n",
    "        print(f\"File not found: {file_path}\")\n",
    "    except Exception as e:\n",
    "        print(f\"An error occurred: {e}\")\n",
    "\n",
    "if __name__ == \"__main__\":\n",
    "    csv_file_path = \"absentees.csv\"  # Path to your CSV file\n",
    "    print(\"Stopping instances listed in the CSV file...\")\n",
    "    stop_instances_from_csv(csv_file_path)"
   ]
  },
  {
   "cell_type": "code",
   "execution_count": null,
   "metadata": {},
   "outputs": [],
   "source": []
  }
 ],
 "metadata": {
  "kernelspec": {
   "display_name": "Python 3",
   "language": "python",
   "name": "python3"
  },
  "language_info": {
   "codemirror_mode": {
    "name": "ipython",
    "version": 3
   },
   "file_extension": ".py",
   "mimetype": "text/x-python",
   "name": "python",
   "nbconvert_exporter": "python",
   "pygments_lexer": "ipython3",
   "version": "3.13.1"
  }
 },
 "nbformat": 4,
 "nbformat_minor": 2
}
